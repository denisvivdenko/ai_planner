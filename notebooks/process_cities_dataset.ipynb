{
 "cells": [
  {
   "cell_type": "code",
   "execution_count": 18,
   "metadata": {},
   "outputs": [],
   "source": [
    "import numpy as np\n",
    "import pandas as pd\n",
    "import matplotlib.pyplot as plt"
   ]
  },
  {
   "cell_type": "code",
   "execution_count": 19,
   "metadata": {},
   "outputs": [],
   "source": [
    "df = pd.read_csv(\"../data/cities.csv\")\n"
   ]
  },
  {
   "cell_type": "code",
   "execution_count": 20,
   "metadata": {},
   "outputs": [],
   "source": [
    "df[\"names\"] = df[\"names\"].apply(lambda x: x.strip())"
   ]
  },
  {
   "cell_type": "code",
   "execution_count": 21,
   "metadata": {},
   "outputs": [
    {
     "data": {
      "text/html": [
       "<div>\n",
       "<style scoped>\n",
       "    .dataframe tbody tr th:only-of-type {\n",
       "        vertical-align: middle;\n",
       "    }\n",
       "\n",
       "    .dataframe tbody tr th {\n",
       "        vertical-align: top;\n",
       "    }\n",
       "\n",
       "    .dataframe thead th {\n",
       "        text-align: right;\n",
       "    }\n",
       "</style>\n",
       "<table border=\"1\" class=\"dataframe\">\n",
       "  <thead>\n",
       "    <tr style=\"text-align: right;\">\n",
       "      <th></th>\n",
       "      <th>names</th>\n",
       "      <th>cords</th>\n",
       "    </tr>\n",
       "  </thead>\n",
       "  <tbody>\n",
       "    <tr>\n",
       "      <th>0</th>\n",
       "      <td>Youngstown, OH</td>\n",
       "      <td>-5572.57       2839.81</td>\n",
       "    </tr>\n",
       "    <tr>\n",
       "      <th>1</th>\n",
       "      <td>Yankton, SD</td>\n",
       "      <td>-6729.21       2962.82</td>\n",
       "    </tr>\n",
       "    <tr>\n",
       "      <th>2</th>\n",
       "      <td>Yakima, WA</td>\n",
       "      <td>-8326.72       3219.84</td>\n",
       "    </tr>\n",
       "    <tr>\n",
       "      <th>3</th>\n",
       "      <td>Worcester, MA</td>\n",
       "      <td>-4961.07       2920.67</td>\n",
       "    </tr>\n",
       "    <tr>\n",
       "      <th>4</th>\n",
       "      <td>Wisconsin Dells, WI</td>\n",
       "      <td>-6202.70       3014.64</td>\n",
       "    </tr>\n",
       "    <tr>\n",
       "      <th>...</th>\n",
       "      <td>...</td>\n",
       "      <td>...</td>\n",
       "    </tr>\n",
       "    <tr>\n",
       "      <th>123</th>\n",
       "      <td>Reno, NV</td>\n",
       "      <td>-8278.33       2730.66</td>\n",
       "    </tr>\n",
       "    <tr>\n",
       "      <th>124</th>\n",
       "      <td>Regina, SA</td>\n",
       "      <td>-7230.86       3483.78</td>\n",
       "    </tr>\n",
       "    <tr>\n",
       "      <th>125</th>\n",
       "      <td>Red Bluff, CA</td>\n",
       "      <td>-8446.23       2776.26</td>\n",
       "    </tr>\n",
       "    <tr>\n",
       "      <th>126</th>\n",
       "      <td>Reading, PA</td>\n",
       "      <td>-5246.43       2786.63</td>\n",
       "    </tr>\n",
       "    <tr>\n",
       "      <th>127</th>\n",
       "      <td>Ravenna, OH</td>\n",
       "      <td>-5613.31       2843.96</td>\n",
       "    </tr>\n",
       "  </tbody>\n",
       "</table>\n",
       "<p>128 rows × 2 columns</p>\n",
       "</div>"
      ],
      "text/plain": [
       "                   names                         cords\n",
       "0         Youngstown, OH    -5572.57       2839.81    \n",
       "1            Yankton, SD    -6729.21       2962.82    \n",
       "2             Yakima, WA    -8326.72       3219.84    \n",
       "3          Worcester, MA    -4961.07       2920.67    \n",
       "4    Wisconsin Dells, WI    -6202.70       3014.64    \n",
       "..                   ...                           ...\n",
       "123             Reno, NV    -8278.33       2730.66    \n",
       "124           Regina, SA    -7230.86       3483.78    \n",
       "125        Red Bluff, CA    -8446.23       2776.26    \n",
       "126          Reading, PA    -5246.43       2786.63    \n",
       "127          Ravenna, OH    -5613.31       2843.96    \n",
       "\n",
       "[128 rows x 2 columns]"
      ]
     },
     "execution_count": 21,
     "metadata": {},
     "output_type": "execute_result"
    }
   ],
   "source": [
    "df"
   ]
  },
  {
   "cell_type": "code",
   "execution_count": 22,
   "metadata": {},
   "outputs": [],
   "source": [
    "df[\"cords\"] = df[\"cords\"].apply(lambda x: x.strip())"
   ]
  },
  {
   "cell_type": "code",
   "execution_count": 23,
   "metadata": {},
   "outputs": [
    {
     "data": {
      "text/html": [
       "<div>\n",
       "<style scoped>\n",
       "    .dataframe tbody tr th:only-of-type {\n",
       "        vertical-align: middle;\n",
       "    }\n",
       "\n",
       "    .dataframe tbody tr th {\n",
       "        vertical-align: top;\n",
       "    }\n",
       "\n",
       "    .dataframe thead th {\n",
       "        text-align: right;\n",
       "    }\n",
       "</style>\n",
       "<table border=\"1\" class=\"dataframe\">\n",
       "  <thead>\n",
       "    <tr style=\"text-align: right;\">\n",
       "      <th></th>\n",
       "      <th>names</th>\n",
       "      <th>cords</th>\n",
       "    </tr>\n",
       "  </thead>\n",
       "  <tbody>\n",
       "    <tr>\n",
       "      <th>0</th>\n",
       "      <td>Youngstown, OH</td>\n",
       "      <td>-5572.57       2839.81</td>\n",
       "    </tr>\n",
       "    <tr>\n",
       "      <th>1</th>\n",
       "      <td>Yankton, SD</td>\n",
       "      <td>-6729.21       2962.82</td>\n",
       "    </tr>\n",
       "    <tr>\n",
       "      <th>2</th>\n",
       "      <td>Yakima, WA</td>\n",
       "      <td>-8326.72       3219.84</td>\n",
       "    </tr>\n",
       "    <tr>\n",
       "      <th>3</th>\n",
       "      <td>Worcester, MA</td>\n",
       "      <td>-4961.07       2920.67</td>\n",
       "    </tr>\n",
       "    <tr>\n",
       "      <th>4</th>\n",
       "      <td>Wisconsin Dells, WI</td>\n",
       "      <td>-6202.70       3014.64</td>\n",
       "    </tr>\n",
       "    <tr>\n",
       "      <th>...</th>\n",
       "      <td>...</td>\n",
       "      <td>...</td>\n",
       "    </tr>\n",
       "    <tr>\n",
       "      <th>123</th>\n",
       "      <td>Reno, NV</td>\n",
       "      <td>-8278.33       2730.66</td>\n",
       "    </tr>\n",
       "    <tr>\n",
       "      <th>124</th>\n",
       "      <td>Regina, SA</td>\n",
       "      <td>-7230.86       3483.78</td>\n",
       "    </tr>\n",
       "    <tr>\n",
       "      <th>125</th>\n",
       "      <td>Red Bluff, CA</td>\n",
       "      <td>-8446.23       2776.26</td>\n",
       "    </tr>\n",
       "    <tr>\n",
       "      <th>126</th>\n",
       "      <td>Reading, PA</td>\n",
       "      <td>-5246.43       2786.63</td>\n",
       "    </tr>\n",
       "    <tr>\n",
       "      <th>127</th>\n",
       "      <td>Ravenna, OH</td>\n",
       "      <td>-5613.31       2843.96</td>\n",
       "    </tr>\n",
       "  </tbody>\n",
       "</table>\n",
       "<p>128 rows × 2 columns</p>\n",
       "</div>"
      ],
      "text/plain": [
       "                   names                   cords\n",
       "0         Youngstown, OH  -5572.57       2839.81\n",
       "1            Yankton, SD  -6729.21       2962.82\n",
       "2             Yakima, WA  -8326.72       3219.84\n",
       "3          Worcester, MA  -4961.07       2920.67\n",
       "4    Wisconsin Dells, WI  -6202.70       3014.64\n",
       "..                   ...                     ...\n",
       "123             Reno, NV  -8278.33       2730.66\n",
       "124           Regina, SA  -7230.86       3483.78\n",
       "125        Red Bluff, CA  -8446.23       2776.26\n",
       "126          Reading, PA  -5246.43       2786.63\n",
       "127          Ravenna, OH  -5613.31       2843.96\n",
       "\n",
       "[128 rows x 2 columns]"
      ]
     },
     "execution_count": 23,
     "metadata": {},
     "output_type": "execute_result"
    }
   ],
   "source": [
    "df"
   ]
  },
  {
   "cell_type": "code",
   "execution_count": 24,
   "metadata": {},
   "outputs": [
    {
     "data": {
      "text/html": [
       "<div>\n",
       "<style scoped>\n",
       "    .dataframe tbody tr th:only-of-type {\n",
       "        vertical-align: middle;\n",
       "    }\n",
       "\n",
       "    .dataframe tbody tr th {\n",
       "        vertical-align: top;\n",
       "    }\n",
       "\n",
       "    .dataframe thead th {\n",
       "        text-align: right;\n",
       "    }\n",
       "</style>\n",
       "<table border=\"1\" class=\"dataframe\">\n",
       "  <thead>\n",
       "    <tr style=\"text-align: right;\">\n",
       "      <th></th>\n",
       "      <th>x</th>\n",
       "      <th>y</th>\n",
       "    </tr>\n",
       "  </thead>\n",
       "  <tbody>\n",
       "    <tr>\n",
       "      <th>0</th>\n",
       "      <td>-5572.57</td>\n",
       "      <td>2839.81</td>\n",
       "    </tr>\n",
       "    <tr>\n",
       "      <th>1</th>\n",
       "      <td>-6729.21</td>\n",
       "      <td>2962.82</td>\n",
       "    </tr>\n",
       "    <tr>\n",
       "      <th>2</th>\n",
       "      <td>-8326.72</td>\n",
       "      <td>3219.84</td>\n",
       "    </tr>\n",
       "    <tr>\n",
       "      <th>3</th>\n",
       "      <td>-4961.07</td>\n",
       "      <td>2920.67</td>\n",
       "    </tr>\n",
       "    <tr>\n",
       "      <th>4</th>\n",
       "      <td>-6202.70</td>\n",
       "      <td>3014.64</td>\n",
       "    </tr>\n",
       "    <tr>\n",
       "      <th>...</th>\n",
       "      <td>...</td>\n",
       "      <td>...</td>\n",
       "    </tr>\n",
       "    <tr>\n",
       "      <th>123</th>\n",
       "      <td>-8278.33</td>\n",
       "      <td>2730.66</td>\n",
       "    </tr>\n",
       "    <tr>\n",
       "      <th>124</th>\n",
       "      <td>-7230.86</td>\n",
       "      <td>3483.78</td>\n",
       "    </tr>\n",
       "    <tr>\n",
       "      <th>125</th>\n",
       "      <td>-8446.23</td>\n",
       "      <td>2776.26</td>\n",
       "    </tr>\n",
       "    <tr>\n",
       "      <th>126</th>\n",
       "      <td>-5246.43</td>\n",
       "      <td>2786.63</td>\n",
       "    </tr>\n",
       "    <tr>\n",
       "      <th>127</th>\n",
       "      <td>-5613.31</td>\n",
       "      <td>2843.96</td>\n",
       "    </tr>\n",
       "  </tbody>\n",
       "</table>\n",
       "<p>128 rows × 2 columns</p>\n",
       "</div>"
      ],
      "text/plain": [
       "           x        y\n",
       "0   -5572.57  2839.81\n",
       "1   -6729.21  2962.82\n",
       "2   -8326.72  3219.84\n",
       "3   -4961.07  2920.67\n",
       "4   -6202.70  3014.64\n",
       "..       ...      ...\n",
       "123 -8278.33  2730.66\n",
       "124 -7230.86  3483.78\n",
       "125 -8446.23  2776.26\n",
       "126 -5246.43  2786.63\n",
       "127 -5613.31  2843.96\n",
       "\n",
       "[128 rows x 2 columns]"
      ]
     },
     "execution_count": 24,
     "metadata": {},
     "output_type": "execute_result"
    }
   ],
   "source": [
    "df2 = pd.DataFrame([[float(cord) for cord in xy_cord.split()] for xy_cord in df[\"cords\"].values], columns=[\"x\", \"y\"])\n",
    "df2"
   ]
  },
  {
   "cell_type": "code",
   "execution_count": 25,
   "metadata": {},
   "outputs": [],
   "source": [
    "df2[\"name\"] = df[\"names\"]"
   ]
  },
  {
   "cell_type": "code",
   "execution_count": 26,
   "metadata": {},
   "outputs": [
    {
     "data": {
      "text/html": [
       "<div>\n",
       "<style scoped>\n",
       "    .dataframe tbody tr th:only-of-type {\n",
       "        vertical-align: middle;\n",
       "    }\n",
       "\n",
       "    .dataframe tbody tr th {\n",
       "        vertical-align: top;\n",
       "    }\n",
       "\n",
       "    .dataframe thead th {\n",
       "        text-align: right;\n",
       "    }\n",
       "</style>\n",
       "<table border=\"1\" class=\"dataframe\">\n",
       "  <thead>\n",
       "    <tr style=\"text-align: right;\">\n",
       "      <th></th>\n",
       "      <th>x</th>\n",
       "      <th>y</th>\n",
       "      <th>name</th>\n",
       "    </tr>\n",
       "  </thead>\n",
       "  <tbody>\n",
       "    <tr>\n",
       "      <th>0</th>\n",
       "      <td>-5572.57</td>\n",
       "      <td>2839.81</td>\n",
       "      <td>Youngstown, OH</td>\n",
       "    </tr>\n",
       "    <tr>\n",
       "      <th>1</th>\n",
       "      <td>-6729.21</td>\n",
       "      <td>2962.82</td>\n",
       "      <td>Yankton, SD</td>\n",
       "    </tr>\n",
       "    <tr>\n",
       "      <th>2</th>\n",
       "      <td>-8326.72</td>\n",
       "      <td>3219.84</td>\n",
       "      <td>Yakima, WA</td>\n",
       "    </tr>\n",
       "    <tr>\n",
       "      <th>3</th>\n",
       "      <td>-4961.07</td>\n",
       "      <td>2920.67</td>\n",
       "      <td>Worcester, MA</td>\n",
       "    </tr>\n",
       "    <tr>\n",
       "      <th>4</th>\n",
       "      <td>-6202.70</td>\n",
       "      <td>3014.64</td>\n",
       "      <td>Wisconsin Dells, WI</td>\n",
       "    </tr>\n",
       "    <tr>\n",
       "      <th>...</th>\n",
       "      <td>...</td>\n",
       "      <td>...</td>\n",
       "      <td>...</td>\n",
       "    </tr>\n",
       "    <tr>\n",
       "      <th>123</th>\n",
       "      <td>-8278.33</td>\n",
       "      <td>2730.66</td>\n",
       "      <td>Reno, NV</td>\n",
       "    </tr>\n",
       "    <tr>\n",
       "      <th>124</th>\n",
       "      <td>-7230.86</td>\n",
       "      <td>3483.78</td>\n",
       "      <td>Regina, SA</td>\n",
       "    </tr>\n",
       "    <tr>\n",
       "      <th>125</th>\n",
       "      <td>-8446.23</td>\n",
       "      <td>2776.26</td>\n",
       "      <td>Red Bluff, CA</td>\n",
       "    </tr>\n",
       "    <tr>\n",
       "      <th>126</th>\n",
       "      <td>-5246.43</td>\n",
       "      <td>2786.63</td>\n",
       "      <td>Reading, PA</td>\n",
       "    </tr>\n",
       "    <tr>\n",
       "      <th>127</th>\n",
       "      <td>-5613.31</td>\n",
       "      <td>2843.96</td>\n",
       "      <td>Ravenna, OH</td>\n",
       "    </tr>\n",
       "  </tbody>\n",
       "</table>\n",
       "<p>128 rows × 3 columns</p>\n",
       "</div>"
      ],
      "text/plain": [
       "           x        y                 name\n",
       "0   -5572.57  2839.81       Youngstown, OH\n",
       "1   -6729.21  2962.82          Yankton, SD\n",
       "2   -8326.72  3219.84           Yakima, WA\n",
       "3   -4961.07  2920.67        Worcester, MA\n",
       "4   -6202.70  3014.64  Wisconsin Dells, WI\n",
       "..       ...      ...                  ...\n",
       "123 -8278.33  2730.66             Reno, NV\n",
       "124 -7230.86  3483.78           Regina, SA\n",
       "125 -8446.23  2776.26        Red Bluff, CA\n",
       "126 -5246.43  2786.63          Reading, PA\n",
       "127 -5613.31  2843.96          Ravenna, OH\n",
       "\n",
       "[128 rows x 3 columns]"
      ]
     },
     "execution_count": 26,
     "metadata": {},
     "output_type": "execute_result"
    }
   ],
   "source": [
    "df2"
   ]
  },
  {
   "cell_type": "code",
   "execution_count": 37,
   "metadata": {},
   "outputs": [],
   "source": [
    "df3 = pd.concat([df2.sample(500, replace=True).reset_index(drop=True), df2.sample(500, replace=True).reset_index(drop=True)], axis=1, ignore_index=True)"
   ]
  },
  {
   "cell_type": "code",
   "execution_count": 39,
   "metadata": {},
   "outputs": [],
   "source": [
    "df3.columns = [\"cord_1_x\", \"cord_1_y\", \"city_1\", \"cord_2_x\", \"cord_2_y\", \"city_2\"]"
   ]
  },
  {
   "cell_type": "code",
   "execution_count": 41,
   "metadata": {},
   "outputs": [],
   "source": [
    "df3 = df3[df3[\"city_1\"] != df3[\"city_2\"]]"
   ]
  },
  {
   "cell_type": "code",
   "execution_count": 43,
   "metadata": {},
   "outputs": [
    {
     "name": "stderr",
     "output_type": "stream",
     "text": [
      "/tmp/ipykernel_176614/1598034247.py:1: SettingWithCopyWarning: \n",
      "A value is trying to be set on a copy of a slice from a DataFrame.\n",
      "Try using .loc[row_indexer,col_indexer] = value instead\n",
      "\n",
      "See the caveats in the documentation: https://pandas.pydata.org/pandas-docs/stable/user_guide/indexing.html#returning-a-view-versus-a-copy\n",
      "  df3[\"dist\"] = np.sqrt(np.square(df3[\"cord_1_x\"] - df3[\"cord_2_x\"]) + np.square(df3[\"cord_1_y\"] - df3[\"cord_2_y\"]))\n"
     ]
    }
   ],
   "source": [
    "df3[\"dist\"] = np.sqrt(np.square(df3[\"cord_1_x\"] - df3[\"cord_2_x\"]) + np.square(df3[\"cord_1_y\"] - df3[\"cord_2_y\"]))"
   ]
  },
  {
   "cell_type": "code",
   "execution_count": 49,
   "metadata": {},
   "outputs": [],
   "source": [
    "df3.to_csv(\"cities_processed.csv\")"
   ]
  },
  {
   "cell_type": "code",
   "execution_count": 47,
   "metadata": {},
   "outputs": [
    {
     "data": {
      "text/html": [
       "<div>\n",
       "<style scoped>\n",
       "    .dataframe tbody tr th:only-of-type {\n",
       "        vertical-align: middle;\n",
       "    }\n",
       "\n",
       "    .dataframe tbody tr th {\n",
       "        vertical-align: top;\n",
       "    }\n",
       "\n",
       "    .dataframe thead th {\n",
       "        text-align: right;\n",
       "    }\n",
       "</style>\n",
       "<table border=\"1\" class=\"dataframe\">\n",
       "  <thead>\n",
       "    <tr style=\"text-align: right;\">\n",
       "      <th></th>\n",
       "      <th>cord_1_x</th>\n",
       "      <th>cord_1_y</th>\n",
       "      <th>city_1</th>\n",
       "      <th>cord_2_x</th>\n",
       "      <th>cord_2_y</th>\n",
       "      <th>city_2</th>\n",
       "      <th>dist</th>\n",
       "    </tr>\n",
       "  </thead>\n",
       "  <tbody>\n",
       "  </tbody>\n",
       "</table>\n",
       "</div>"
      ],
      "text/plain": [
       "Empty DataFrame\n",
       "Columns: [cord_1_x, cord_1_y, city_1, cord_2_x, cord_2_y, city_2, dist]\n",
       "Index: []"
      ]
     },
     "execution_count": 47,
     "metadata": {},
     "output_type": "execute_result"
    }
   ],
   "source": [
    "df3[df3[\"dist\"] == 0]"
   ]
  },
  {
   "cell_type": "code",
   "execution_count": 46,
   "metadata": {},
   "outputs": [
    {
     "data": {
      "text/plain": [
       "<AxesSubplot: >"
      ]
     },
     "execution_count": 46,
     "metadata": {},
     "output_type": "execute_result"
    },
    {
     "data": {
      "image/png": "[encoded data removed]",
      "text/plain": [
       "<Figure size 640x480 with 1 Axes>"
      ]
     },
     "metadata": {},
     "output_type": "display_data"
    }
   ],
   "source": [
    "df3[\"dist\"].hist()"
   ]
  },
  {
   "cell_type": "code",
   "execution_count": 27,
   "metadata": {},
   "outputs": [
    {
     "name": "stdout",
     "output_type": "stream",
     "text": [
      "Ravenna, OH\n",
      "Reading, PA\n",
      "Red Bluff, CA\n",
      "Regina, SA\n",
      "Reno, NV\n",
      "Rhinelander, WI\n",
      "Richfield, UT\n",
      "Richmond, IN\n",
      "Richmond, VA\n",
      "Roanoke, VA\n",
      "Rochester, MN\n",
      "Rochester, NY\n",
      "Rock Springs, WY\n",
      "Rockford, IL\n",
      "Rocky Mount, NC\n",
      "Roswell, NM\n",
      "Rutland, VT\n",
      "Sacramento, CA\n",
      "Saginaw, MI\n",
      "Saint Augustine, FL\n",
      "Saint Cloud, MN\n",
      "Saint Johnsbury, VT\n",
      "Saint Joseph, MI\n",
      "Saint Joseph, MO\n",
      "Saint Louis, MO\n",
      "Saint Paul, MN\n",
      "Salem, OR\n",
      "Salida, CO\n",
      "Salina, KS\n",
      "Salinas, CA\n",
      "Salisbury, MD\n",
      "Salt Lake City, UT\n",
      "San Angelo, TX\n",
      "San Antonio, TX\n",
      "San Bernardino, CA\n",
      "San Diego, CA\n",
      "San Francisco, CA\n",
      "San Jose, CA\n",
      "Sandusky, OH\n",
      "Santa Ana, CA\n",
      "Santa Barbara, CA\n",
      "Santa Fe, NM\n",
      "Santa Rosa, CA\n",
      "Sarasota, FL\n",
      "Sault Sainte Marie, MI\n",
      "Savannah, GA\n",
      "Schenectady, NY\n",
      "Scottsbluff, NB\n",
      "Scranton, PA\n",
      "Seattle, WA\n",
      "Sedalia, MO\n",
      "Selma, AL\n",
      "Seminole, OK\n",
      "Sheridan, WY\n",
      "Sherman, TX\n",
      "Shreveport, LA\n",
      "Sioux City, IA\n",
      "Sioux Falls, SD\n",
      "South Bend, IN\n",
      "Spokane, WA\n",
      "Springfield, IL\n",
      "Springfield, MA\n",
      "Springfield, MO\n",
      "Springfield, OH\n",
      "Staunton, VA\n",
      "Sterling, CO\n",
      "Steubenville, OH\n",
      "Stevens Point, WI\n",
      "Stockton, CA\n",
      "Stroudsburg, PA\n",
      "Sumter, SC\n",
      "Swainsboro, GA\n",
      "Syracuse, NY\n",
      "Tacoma, WA\n",
      "Tallahassee, FL\n",
      "Tampa, FL\n",
      "Terre Haute, IN\n",
      "Texarkana, TX\n",
      "Toledo, OH\n",
      "Topeka, KS\n",
      "Toronto, ON\n",
      "Traverse City, MI\n",
      "Trenton, NJ\n",
      "Trinidad, CO\n",
      "Tucson, AZ\n",
      "Tulsa, OK\n",
      "Tupelo, MS\n",
      "Tuscaloosa, AL\n",
      "Twin Falls, ID\n",
      "Tyler, TX\n",
      "Uniontown, PA\n",
      "Utica, NY\n",
      "Valdosta, GA\n",
      "Valley City, ND\n",
      "Vancouver, BC\n",
      "Vicksburg, MS\n",
      "Victoria, TX\n",
      "Vincennes, IN\n",
      "Waco, TX\n",
      "Walla Walla, WA\n",
      "Warren, PA\n",
      "Washington, DC\n",
      "Waterbury, CT\n",
      "Waterloo, IA\n",
      "Watertown, NY\n",
      "Watertown, SD\n",
      "Waukegan, IL\n",
      "Wausau, WI\n",
      "Waycross, GA\n",
      "Weed, CA\n",
      "Wenatchee, WA\n",
      "West Palm Beach, FL\n",
      "Wheeling, WV\n",
      "Wichita Falls, TX\n",
      "Wichita, KS\n",
      "Williamson, WV\n",
      "Williamsport, PA\n",
      "Williston, ND\n",
      "Wilmington, DE\n",
      "Wilmington, NC\n",
      "Winchester, VA\n",
      "Winnipeg, MB\n",
      "Winston-Salem, NC\n",
      "Wisconsin Dells, WI\n",
      "Worcester, MA\n",
      "Yakima, WA\n",
      "Yankton, SD\n",
      "Youngstown, OH\n"
     ]
    }
   ],
   "source": [
    "for city_name, city_cords in df2.groupby(\"name\"):\n",
    "    df2.sample(10)"
   ]
  },
  {
   "cell_type": "code",
   "execution_count": 50,
   "metadata": {},
   "outputs": [],
   "source": [
    "import inspect"
   ]
  },
  {
   "cell_type": "code",
   "execution_count": 55,
   "metadata": {},
   "outputs": [],
   "source": [
    "import sys\n",
    "sys.path.append(\"../src/problem/\")"
   ]
  },
  {
   "cell_type": "code",
   "execution_count": 63,
   "metadata": {},
   "outputs": [],
   "source": [
    "class A:\n",
    "    def get(self, a, b):\n",
    "        pass"
   ]
  },
  {
   "cell_type": "code",
   "execution_count": 62,
   "metadata": {},
   "outputs": [
    {
     "ename": "ImportError",
     "evalue": "attempted relative import with no known parent package",
     "output_type": "error",
     "traceback": [
      "\u001b[0;31m---------------------------------------------------------------------------\u001b[0m",
      "\u001b[0;31mImportError\u001b[0m                               Traceback (most recent call last)",
      "Cell \u001b[0;32mIn[62], line 1\u001b[0m\n\u001b[0;32m----> 1\u001b[0m \u001b[39mfrom\u001b[39;00m \u001b[39m.\u001b[39;00m\u001b[39m.\u001b[39;00m\u001b[39msrc\u001b[39;00m\u001b[39m.\u001b[39;00m\u001b[39mproblem\u001b[39;00m\u001b[39m.\u001b[39;00m\u001b[39mtravel_salesman_problem\u001b[39;00m \u001b[39mimport\u001b[39;00m TravelSalesmanProblem\n",
      "\u001b[0;31mImportError\u001b[0m: attempted relative import with no known parent package"
     ]
    }
   ],
   "source": []
  },
  {
   "cell_type": "code",
   "execution_count": null,
   "metadata": {},
   "outputs": [],
   "source": []
  },
  {
   "cell_type": "code",
   "execution_count": null,
   "metadata": {},
   "outputs": [],
   "source": []
  },
  {
   "cell_type": "code",
   "execution_count": null,
   "metadata": {},
   "outputs": [],
   "source": []
  }
 ],
 "metadata": {
  "kernelspec": {
   "display_name": "venv",
   "language": "python",
   "name": "python3"
  },
  "language_info": {
   "codemirror_mode": {
    "name": "ipython",
    "version": 3
   },
   "file_extension": ".py",
   "mimetype": "text/x-python",
   "name": "python",
   "nbconvert_exporter": "python",
   "pygments_lexer": "ipython3",
   "version": "3.10.6"
  },
  "orig_nbformat": 4,
  "vscode": {
   "interpreter": {
    "hash": "1c1708f42a7f4a97dbadb48366facde152229f023a110aeb811f70fd715727d5"
   }
  }
 },
 "nbformat": 4,
 "nbformat_minor": 2
}
